{
 "cells": [
  {
   "cell_type": "code",
   "execution_count": 1,
   "metadata": {},
   "outputs": [],
   "source": [
    "# Import libraries\n",
    "import csv\n",
    "from pathlib import Path"
   ]
  },
  {
   "cell_type": "code",
   "execution_count": 2,
   "metadata": {},
   "outputs": [],
   "source": [
    "# Set file paths for menu_data.csv and sales_data.csv\n",
    "menu_filepath = Path(\"Resources/menu_data.csv\")\n",
    "sales_filepath = Path(\"Resources/sales_data.csv\")\n",
    "report_filepath = Path(\"Resources/sales_report.txt\")\n",
    "\n",
    "# @Initialize list objects to hold our menu and sales data\n",
    "menu = []\n",
    "sales = []"
   ]
  },
  {
   "cell_type": "code",
   "execution_count": 3,
   "metadata": {},
   "outputs": [],
   "source": [
    "# Read in the menu data into the menu list\n",
    "with open(menu_filepath, mode=\"r\") as csv_file:\n",
    "    csv_reader = csv.reader(csv_file, delimiter=\",\")\n",
    "    header = next(csv_reader)\n",
    "    for row in csv_reader:\n",
    "        menu.append(row)\n",
    "\n",
    "# Read in the sales data into the sales list\n",
    "with open(sales_filepath, mode=\"r\") as csv_file:\n",
    "    csv_reader = csv.reader(csv_file, delimiter=\",\")\n",
    "    header = next(csv_reader)\n",
    "    for row in csv_reader:\n",
    "        sales.append(row)\n",
    "\n",
    "# Initialize dict object to hold our key-value pairs of items and metrics\n",
    "report = {}"
   ]
  },
  {
   "cell_type": "code",
   "execution_count": 6,
   "metadata": {},
   "outputs": [],
   "source": [
    "# Loop over every row in the sales list object\n",
    "for sale in sales:\n",
    "\n",
    "    # Initialize sales data variables\n",
    "    quantity = float(sale[3])\n",
    "    menu_item = sale[4]\n",
    "\n",
    "    # If the item value not in the report, add it as a new entry with initialized metrics\n",
    "    if menu_item not in report.keys():\n",
    "        report[menu_item] = {\n",
    "            \"01-count\": 0,\n",
    "            \"02-revenue\": 0,\n",
    "            \"03-cogs\": 0,\n",
    "            \"04-profit\": 0\n",
    "        }\n",
    "    # For every row in our sales data, loop over the menu records to determine a match\n",
    "    for record in menu:\n",
    "\n",
    "        # Initialize menu data variables\n",
    "        item = record[0]\n",
    "        price = float(record[3])\n",
    "        cost = float(record[4])\n",
    "\n",
    "        if item == menu_item:\n",
    "            # print(f\"matched data: item = {item}, price = {price}, cost = {cost}\")\n",
    "            report[menu_item][\"01-count\"] += quantity\n",
    "            report[menu_item][\"02-revenue\"] += price * quantity\n",
    "            report[menu_item][\"03-cogs\"] += cost * quantity\n",
    "            report[menu_item][\"04-profit\"] += (price - cost) * quantity\n",
    "        # else:\n",
    "            # print(f\"{item} does not equal {menu_item} ! NO MATCH!\")"
   ]
  },
  {
   "cell_type": "code",
   "execution_count": 7,
   "metadata": {},
   "outputs": [
    {
     "name": "stdout",
     "output_type": "stream",
     "text": [
      "total number of records in sales data = 74124\n"
     ]
    }
   ],
   "source": [
    "# Write out report to a text file (won't appear on the command line output)\n",
    "with open(report_filepath, mode=\"w\") as file:\n",
    "    for key, value in report.items():\n",
    "        row = f\"{key} : {{\\\"01-count\\\":{value['01-count']}, \\\"02-revenue\\\": {value['02-revenue']}, \\\"03-cogs\\\": {value['03-cogs']}, \\\"04-profit\\\": {value['04-profit']}}}\\n\"\n",
    "        file.write(row)\n",
    "\n",
    "    file.close()\n",
    "\n",
    "# Print total number of records in sales data\n",
    "print(f\"total number of records in sales data = {len(sales)}\")"
   ]
  },
  {
   "cell_type": "code",
   "execution_count": null,
   "metadata": {},
   "outputs": [],
   "source": []
  }
 ],
 "metadata": {
  "kernelspec": {
   "display_name": "Python 3",
   "language": "python",
   "name": "python3"
  },
  "language_info": {
   "codemirror_mode": {
    "name": "ipython",
    "version": 3
   },
   "file_extension": ".py",
   "mimetype": "text/x-python",
   "name": "python",
   "nbconvert_exporter": "python",
   "pygments_lexer": "ipython3",
   "version": "3.7.6"
  }
 },
 "nbformat": 4,
 "nbformat_minor": 4
}
