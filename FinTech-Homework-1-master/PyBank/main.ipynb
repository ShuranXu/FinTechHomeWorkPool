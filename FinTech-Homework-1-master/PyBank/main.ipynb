{
 "cells": [
  {
   "cell_type": "code",
   "execution_count": 1,
   "metadata": {},
   "outputs": [],
   "source": [
    "from pathlib import Path\n",
    "import csv"
   ]
  },
  {
   "cell_type": "code",
   "execution_count": 4,
   "metadata": {},
   "outputs": [],
   "source": [
    "MAX_VAL = 100000\n",
    "MIN_VAL = 0\n",
    "CSV_FILE = Path(\"Resources/budget_data.csv\")\n",
    "\n",
    "# declare variables\n",
    "total_num_of_months = 0\n",
    "net_total_amount = 0\n",
    "avg_changes = 0\n",
    "trade_history = []\n",
    "max_increase = [\"date\",  MIN_VAL]\n",
    "max_decrease = [\"date\", MAX_VAL]"
   ]
  },
  {
   "cell_type": "code",
   "execution_count": 5,
   "metadata": {},
   "outputs": [],
   "source": [
    "with open(CSV_FILE, mode=\"r\") as csv_file:\n",
    "    csv_reader = csv.DictReader(csv_file)\n",
    "    for log in csv_reader:\n",
    "        \n",
    "        total_num_of_months += 1\n",
    "        net_gain = float(log[\"Profit/Losses\"])\n",
    "        net_total_amount += net_gain\n",
    "        trade_history.append(net_gain)\n",
    "        \n",
    "        if net_gain > max_increase[1]:\n",
    "            max_increase[0] = log[\"Date\"]\n",
    "            max_increase[1] = net_gain\n",
    "\n",
    "        if net_gain < max_decrease[1]:\n",
    "            max_decrease[0] = log[\"Date\"]\n",
    "            max_decrease[1] = net_gain"
   ]
  },
  {
   "cell_type": "code",
   "execution_count": 6,
   "metadata": {},
   "outputs": [],
   "source": [
    "for i in range(1, len(trade_history)):\n",
    "    avg_changes += trade_history[i] - trade_history[i-1]\n",
    "\n",
    "avg_changes = avg_changes / total_num_of_months"
   ]
  },
  {
   "cell_type": "code",
   "execution_count": 7,
   "metadata": {},
   "outputs": [
    {
     "name": "stdout",
     "output_type": "stream",
     "text": [
      "Financial Analysis \n",
      "---------------------------- \n",
      "Total Months: 86 \n",
      "Total: $38382578.0 \n",
      "Average Change: $-2288.20 \n",
      "Greatest Increase in Profits: Feb-2012($1170593.0) \n",
      "Greatest Decrease in Profits: Sep-2013($-1196225.0) \n",
      "\n"
     ]
    }
   ],
   "source": [
    "# Print result\n",
    "print(f\"Financial Analysis \\n\"\n",
    "      f\"---------------------------- \\n\"\n",
    "      f\"Total Months: {total_num_of_months} \\n\" \n",
    "      f\"Total: ${net_total_amount} \\n\"\n",
    "      f\"Average Change: ${avg_changes: .2f} \\n\"\n",
    "      f\"Greatest Increase in Profits: {max_increase[0]}(${max_increase[1]}) \\n\"\n",
    "      f\"Greatest Decrease in Profits: {max_decrease[0]}(${max_decrease[1]}) \\n\"\n",
    "      )"
   ]
  },
  {
   "cell_type": "code",
   "execution_count": null,
   "metadata": {},
   "outputs": [],
   "source": []
  }
 ],
 "metadata": {
  "kernelspec": {
   "display_name": "Python 3",
   "language": "python",
   "name": "python3"
  },
  "language_info": {
   "codemirror_mode": {
    "name": "ipython",
    "version": 3
   },
   "file_extension": ".py",
   "mimetype": "text/x-python",
   "name": "python",
   "nbconvert_exporter": "python",
   "pygments_lexer": "ipython3",
   "version": "3.7.6"
  }
 },
 "nbformat": 4,
 "nbformat_minor": 4
}
