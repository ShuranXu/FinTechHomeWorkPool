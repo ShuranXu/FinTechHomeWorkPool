{
 "cells": [
  {
   "cell_type": "code",
   "execution_count": 1,
   "metadata": {},
   "outputs": [],
   "source": [
    "from pathlib import Path\n",
    "import csv"
   ]
  },
  {
   "cell_type": "code",
   "execution_count": 2,
   "metadata": {},
   "outputs": [
    {
     "ename": "SyntaxError",
     "evalue": "EOL while scanning string literal (<ipython-input-2-7b7d3b912aa6>, line 3)",
     "output_type": "error",
     "traceback": [
      "\u001b[0;36m  File \u001b[0;32m\"<ipython-input-2-7b7d3b912aa6>\"\u001b[0;36m, line \u001b[0;32m3\u001b[0m\n\u001b[0;31m    CSV_FILE = path(Resources/budget_data.csv\")\u001b[0m\n\u001b[0m                                               ^\u001b[0m\n\u001b[0;31mSyntaxError\u001b[0m\u001b[0;31m:\u001b[0m EOL while scanning string literal\n"
     ]
    }
   ],
   "source": [
    "MAX_VAL = 100000\n",
    "MIN_VAL = 0\n",
    "CSV_FILE = path(\"Resources/budget_data.csv\")\n",
    "\n",
    "# declare variables\n",
    "total_num_of_months = 0\n",
    "net_total_amount = 0\n",
    "avg_changes = 0\n",
    "trade_history = []\n",
    "max_increase = [\"date\",  MIN_VAL]\n",
    "max_decrease = [\"date\", MAX_VAL]"
   ]
  },
  {
   "cell_type": "code",
   "execution_count": null,
   "metadata": {},
   "outputs": [],
   "source": []
  }
 ],
 "metadata": {
  "kernelspec": {
   "display_name": "Python 3",
   "language": "python",
   "name": "python3"
  },
  "language_info": {
   "codemirror_mode": {
    "name": "ipython",
    "version": 3
   },
   "file_extension": ".py",
   "mimetype": "text/x-python",
   "name": "python",
   "nbconvert_exporter": "python",
   "pygments_lexer": "ipython3",
   "version": "3.7.6"
  }
 },
 "nbformat": 4,
 "nbformat_minor": 4
}
